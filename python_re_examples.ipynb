{
 "metadata": {
  "language_info": {
   "codemirror_mode": {
    "name": "ipython",
    "version": 3
   },
   "file_extension": ".py",
   "mimetype": "text/x-python",
   "name": "python",
   "nbconvert_exporter": "python",
   "pygments_lexer": "ipython3",
   "version": "3.8.4-final"
  },
  "orig_nbformat": 2,
  "kernelspec": {
   "name": "python38464bite56195d02a8e46ec961ed45ce46dd12b",
   "display_name": "Python 3.8.4 64-bit",
   "language": "python"
  }
 },
 "nbformat": 4,
 "nbformat_minor": 2,
 "cells": [
  {
   "source": [
    "# Python - Regular Expressions"
   ],
   "cell_type": "markdown",
   "metadata": {}
  },
  {
   "cell_type": "code",
   "execution_count": 2,
   "metadata": {},
   "outputs": [],
   "source": [
    "#!/usr/bin/python\n",
    "\n",
    "# Import the required package\n",
    "\n",
    "import re\n",
    "\n",
    "# Python Std library imports\n",
    "\n",
    "import sys"
   ]
  },
  {
   "source": [
    "Re can be broken down into three parts\n",
    "\n",
    "- The search type.\n",
    "\n",
    "- The pattern to find.\n",
    "\n",
    "- The string to search .\n"
   ],
   "cell_type": "markdown",
   "metadata": {}
  },
  {
   "source": [
    "# The search type:\n",
    "\n",
    "Re functions define the type of search to perform and.\n",
    "\n",
    "- **match** -- Match a patern to the begining og a string\n",
    "- **fullmatch** -- Match a pattern to all of the string\n",
    "- **search**  --  Search for a patern in the string \n",
    "- **sub**   --  Search for patteren in string and replace \n",
    "- **subn**    --  same as Sub but return a number for times subsitition happened\n",
    "- **split **   --  split the string at the pattern\n",
    "- **findall**    --  Find all patern mattches in string\n",
    "- **finditer **   -- Return an iterable match for each match\n",
    "- **compile**   --  compile a patern into a pattern object\n",
    "- **purge   **  --  clear pattern expresion cache\n",
    "- **escape**   --  backslash all non-alpanumeric in a string"
   ],
   "cell_type": "markdown",
   "metadata": {}
  },
  {
   "source": [
    "**MATCH**\n",
    "- re.match(pattern, string, flags=0)"
   ],
   "cell_type": "markdown",
   "metadata": {}
  },
  {
   "cell_type": "code",
   "execution_count": 179,
   "metadata": {},
   "outputs": [
    {
     "output_type": "execute_result",
     "data": {
      "text/plain": [
       "<re.Match object; span=(0, 5), match='Hello'>"
      ]
     },
     "metadata": {},
     "execution_count": 179
    }
   ],
   "source": [
    "patternToFind = r\"Hello\"\n",
    "searchThisString = \"Hello, World! Hello, You!\"\n",
    "re.match( patternToFind, searchThisString )"
   ]
  },
  {
   "source": [
    "**FULLMATCH**\n",
    "- re.fullmatch(pattern, string, flags=0)"
   ],
   "cell_type": "markdown",
   "metadata": {}
  },
  {
   "cell_type": "code",
   "execution_count": 180,
   "metadata": {},
   "outputs": [],
   "source": [
    "patternToFind = r\"Hello\"\n",
    "searchThisString = \"Hello, World! Hello, You!\"\n",
    "re.fullmatch( patternToFind, searchThisString, flags=0)\n",
    "# Returns nothing because it does not fully match"
   ]
  },
  {
   "source": [
    "**SEARCH**\n",
    "- re.search(pattern, string, flags=0)"
   ],
   "cell_type": "markdown",
   "metadata": {}
  },
  {
   "cell_type": "code",
   "execution_count": 181,
   "metadata": {},
   "outputs": [
    {
     "output_type": "execute_result",
     "data": {
      "text/plain": [
       "<re.Match object; span=(0, 5), match='Hello'>"
      ]
     },
     "metadata": {},
     "execution_count": 181
    }
   ],
   "source": [
    "patternToFind = r\"Hello\"\n",
    "searchThisString = \"Hello, World! Hello, You!\"\n",
    "re.search( patternToFind, searchThisString , flags=0)"
   ]
  },
  {
   "source": [
    "**SUB**\n",
    "\n",
    "-  re.sub(pattern, repl, string, count=0, flags=0):"
   ],
   "cell_type": "markdown",
   "metadata": {}
  },
  {
   "cell_type": "code",
   "execution_count": 182,
   "metadata": {},
   "outputs": [
    {
     "output_type": "execute_result",
     "data": {
      "text/plain": [
       "'Hey, World! Hey, You!'"
      ]
     },
     "metadata": {},
     "execution_count": 182
    }
   ],
   "source": [
    "patternToFind = r\"Hello\"\n",
    "searchThisString = \"Hello, World! Hello, You!\"\n",
    "replaceWith = r\"Hey\"\n",
    "re.sub( patternToFind, replaceWith, searchThisString, count=0, flags=0 )"
   ]
  },
  {
   "source": [
    "**SUBN**\n",
    "- re.subn(pattern, repl, string, count=0, flags=0)"
   ],
   "cell_type": "markdown",
   "metadata": {}
  },
  {
   "cell_type": "code",
   "execution_count": 183,
   "metadata": {},
   "outputs": [
    {
     "output_type": "execute_result",
     "data": {
      "text/plain": [
       "('Hey, World! Hey, You!', 2)"
      ]
     },
     "metadata": {},
     "execution_count": 183
    }
   ],
   "source": [
    "patternToFind = r\"Hello\"\n",
    "searchThisString = \"Hello, World! Hello, You!\"\n",
    "replaceWith = r\"Hey\"\n",
    "re.subn( patternToFind, replaceWith, searchThisString , count=0, flags=0)"
   ]
  },
  {
   "source": [
    "**SPLIT**\n",
    "- re.split(pattern, string, maxsplit=0, flags=0)"
   ],
   "cell_type": "markdown",
   "metadata": {}
  },
  {
   "cell_type": "code",
   "execution_count": 192,
   "metadata": {},
   "outputs": [
    {
     "output_type": "execute_result",
     "data": {
      "text/plain": [
       "['Hello', ' World! Hello', ' You!']"
      ]
     },
     "metadata": {},
     "execution_count": 192
    }
   ],
   "source": [
    "patternToFind = r\",\"\n",
    "searchThisString = \"Hello, World! Hello, You!\"\n",
    "re.split( patternToFind, searchThisString , maxsplit=0, flags=0)"
   ]
  },
  {
   "source": [
    "**findall**\n",
    "- re.findall(pattern, string, flags=0)"
   ],
   "cell_type": "markdown",
   "metadata": {}
  },
  {
   "cell_type": "code",
   "execution_count": 195,
   "metadata": {},
   "outputs": [
    {
     "output_type": "execute_result",
     "data": {
      "text/plain": [
       "[',', ',']"
      ]
     },
     "metadata": {},
     "execution_count": 195
    }
   ],
   "source": [
    "patternToFind = r\",\"\n",
    "searchThisString = \"Hello, World! Hello, You!\"\n",
    "re.findall( patternToFind, searchThisString, flags=0)"
   ]
  },
  {
   "source": [
    "**finditer**\n",
    "- re.finditer(pattern, string, flags=0)"
   ],
   "cell_type": "markdown",
   "metadata": {}
  },
  {
   "cell_type": "code",
   "execution_count": 200,
   "metadata": {},
   "outputs": [
    {
     "output_type": "stream",
     "name": "stdout",
     "text": [
      "<class 'callable_iterator'>\n<re.Match object; span=(5, 6), match=','>\n<re.Match object; span=(19, 20), match=','>\n"
     ]
    }
   ],
   "source": [
    "patternToFind = r\",\"\n",
    "searchThisString = \"Hello, World! Hello, You!\"\n",
    "n = re.finditer( patternToFind, searchThisString, flags=0)\n",
    "\n",
    "print(type(n))\n",
    "\n",
    "for i in n:\n",
    "    print(i)"
   ]
  },
  {
   "source": [
    "**COMPILE**\n",
    "- re.compile(pattern, flags=0)"
   ],
   "cell_type": "markdown",
   "metadata": {}
  },
  {
   "cell_type": "code",
   "execution_count": 214,
   "metadata": {},
   "outputs": [
    {
     "output_type": "stream",
     "name": "stdout",
     "text": [
      "re.compile('\\\\d!')\n"
     ]
    },
    {
     "output_type": "execute_result",
     "data": {
      "text/plain": [
       "['2!']"
      ]
     },
     "metadata": {},
     "execution_count": 214
    }
   ],
   "source": [
    "allWords = re.compile(r\"\\d!\")\n",
    "\n",
    "print(allWords)\n",
    "\n",
    "searchThisString = \"Hello 1, World 22! Hello, You!\"\n",
    "\n",
    "allWords.findall(searchThisString)"
   ]
  },
  {
   "source": [
    "**PURGE**\n",
    "- re.purge()"
   ],
   "cell_type": "markdown",
   "metadata": {}
  },
  {
   "cell_type": "code",
   "execution_count": 215,
   "metadata": {},
   "outputs": [],
   "source": [
    "re.purge()"
   ]
  },
  {
   "source": [
    "**TEMPLATE**\n",
    "- template(pattern, flags=0)"
   ],
   "cell_type": "markdown",
   "metadata": {}
  },
  {
   "cell_type": "code",
   "execution_count": 217,
   "metadata": {},
   "outputs": [
    {
     "output_type": "execute_result",
     "data": {
      "text/plain": [
       "re.compile(r'Hello', re.TEMPLATE|re.UNICODE)"
      ]
     },
     "metadata": {},
     "execution_count": 217
    }
   ],
   "source": [
    "re.template(r\"Hello\")"
   ]
  },
  {
   "cell_type": "code",
   "execution_count": null,
   "metadata": {},
   "outputs": [],
   "source": []
  },
  {
   "source": [
    "# Pattern to find:\n",
    "\n",
    "This is also known as the regular expression\n",
    "\n",
    "\n",
    "A search patten can be explicit i.e   \n",
    "\n",
    " > re.search(r\"dinner\", \"Dogs dinner\" )\n",
    "\n",
    "or implicet \n",
    "\n",
    "> re.search(r\"\\w+\",\"Dogs dinner\")\n",
    "\n",
    "\n",
    "### These are the following implicit patterens and are REs true source of power\n",
    "\n",
    "\n",
    "> \\A  \\Z  \\b \\B  \\d  \\D  \\s \\S \\W \\\\\n"
   ],
   "cell_type": "markdown",
   "metadata": {}
  },
  {
   "cell_type": "code",
   "execution_count": 55,
   "metadata": {},
   "outputs": [
    {
     "output_type": "execute_result",
     "data": {
      "text/plain": [
       "<re.Match object; span=(4, 11), match=' dinner'>"
      ]
     },
     "metadata": {},
     "execution_count": 55
    }
   ],
   "source": [
    "re.search(r\"\\s\\w+\",\"Dogs dinner\")"
   ]
  },
  {
   "source": [
    "def nl():\n",
    "     print(r\"-\"*10)\n",
    "     print(\"\\n\")\n",
    "     print(r\"-\"*10)\n",
    "     print(\"Search: \"+ r\"foobar wow\\nfoo wow\\n\")\n",
    "\n",
    "# \\number  Matches the contents of the group of the same number.\n",
    "\n",
    "print(r\"\\\\number\")\n",
    "print(r\"search and group the string 'foobar'\")\n",
    "print(re.sub(r\"(foo)(bar)\",r\"\\g<1> \\g<2>\\g<1> \\1 \\2\",\"foobar\"))\n",
    "nl()\n",
    "# \\A       Matches only at the start of the string.\n",
    "\n",
    "print(r\"\\\\A\")\n",
    "print(re.findall(r\"\\Afoo\", \"foobar foowow\"))\n",
    "print(r\"Note : without the \\\\A it would match both 'foo'\")\n",
    "print(re.findall(r\"foo\", \"foobar foowow\"))\n",
    "nl()\n",
    "# \\Z       Matches only at the end of the string and end of the line.\n",
    "\n",
    "print(r\"\\\\Z\")\n",
    "\n",
    "print(\"Search: \"+ r\"foobar wow\\nfoo wow\\n\")\n",
    "print(re.search(r\"wow\\Z\", \"foobar wow\\nfoo wow\\n\"))\n",
    "\n",
    "print( r\"Without \\Z\")\n",
    "print(re.search(r\"wow$\", \"foobar wow\\nfoo wow\\n\"))\n",
    "nl()\n",
    "\n",
    "# \\b       Matches the empty string, but only at the start or end of a word.\n",
    "print(r\"\\b\")\n",
    "\n",
    "print(\"Search: \"+ r\"foobar wow\\nfoo wow\\n\")\n",
    "nl()\n",
    "\n",
    "# \\B       Matches the empty string, but not at the start or end of a word.\n",
    "\n",
    "# \\d       Matches any decimal digit; equivalent to the set \\[0-9\\] in\n",
    "#         bytes patterns or string patterns with the ASCII flag.\n",
    "#         In string patterns without the ASCII flag, it will match the whole\n",
    "#         range of Unicode digits.\n",
    "\n",
    "# \\D      Matches any non-digit character; equivalent to \\[^\\d\\].\n",
    "\n",
    "# \\s       Matches any whitespace character; equivalent to \\[ \\t\\n\\r\\f\\v\\] in\n",
    "#        bytes patterns or string patterns with the ASCII flag.\n",
    "#             In string patterns without the ASCII flag, it will match the whole\n",
    "#             range of Unicode whitespace characters.\n",
    "\n",
    "# \\S       Matches any non-whitespace character; equivalent to [^\\s].\n",
    "\n",
    "# \\w       Matches any alphanumeric character; equivalent to [a-zA-Z0-9_]\n",
    "#             in bytes patterns or string patterns with the ASCII flag.\n",
    "#             In string patterns without the ASCII flag, it will match the\n",
    "#             range of Unicode alphanumeric characters (letters plus digits\n",
    "#             plus underscore).\n",
    "#             With LOCALE, it will match the set [0-9_] plus characters defined\n",
    "#             as letters for the current locale.\n",
    "\n",
    "# \\W       Matches the complement of \\w.\n",
    "\n",
    "# \\\\       Matches a literal backslash.\n"
   ],
   "cell_type": "code",
   "metadata": {},
   "execution_count": 137,
   "outputs": [
    {
     "output_type": "stream",
     "name": "stdout",
     "text": [
      "\\\\number\nsearch and group the string 'foobar'\nfoo barfoo foo bar\n----------\n\n\n----------\nSearch: foobar wow\\nfoo wow\\n\n\\\\A\n['foo']\nNote : without the \\\\A it would match both 'foo'\n['foo', 'foo']\n----------\n\n\n----------\nSearch: foobar wow\\nfoo wow\\n\n\\\\Z\nSearch: foobar wow\\nfoo wow\\n\nNone\nWithout \\Z\n<re.Match object; span=(15, 18), match='wow'>\n----------\n\n\n----------\nSearch: foobar wow\\nfoo wow\\n\n\\b\nSearch: foobar wow\\nfoo wow\\n\n----------\n\n\n----------\nSearch: foobar wow\\nfoo wow\\n\n"
     ]
    }
   ]
  },
  {
   "source": [
    "# Search Patterns\n",
    "\n",
    "## 1) \".\"\n",
    "\n",
    "\".\" $ Matches any character exept a new line.\n",
    "\n",
    "This matches \"H\"\n",
    "\n",
    "> re.match(\".\", \"Hello /n\")\n",
    "\n"
   ],
   "cell_type": "markdown",
   "metadata": {}
  },
  {
   "cell_type": "code",
   "execution_count": 17,
   "metadata": {},
   "outputs": [
    {
     "output_type": "execute_result",
     "data": {
      "text/plain": [
       "<re.Match object; span=(0, 1), match='H'>"
      ]
     },
     "metadata": {},
     "execution_count": 17
    }
   ],
   "source": [
    "re.match(\".\", \"Hello /n\")"
   ]
  },
  {
   "source": [
    "## 2) \"^\"\n",
    "\n",
    "\"^\" Matches the start of the string.\n",
    "\n",
    "This matches \"H\""
   ],
   "cell_type": "markdown",
   "metadata": {}
  },
  {
   "cell_type": "code",
   "execution_count": 19,
   "metadata": {},
   "outputs": [
    {
     "output_type": "execute_result",
     "data": {
      "text/plain": [
       "<re.Match object; span=(0, 1), match='H'>"
      ]
     },
     "metadata": {},
     "execution_count": 19
    }
   ],
   "source": [
    "re.match(\"^H\", \"Hello /n\")"
   ]
  },
  {
   "source": [
    "## 3) \"$\"\n",
    "\n",
    "\"$\"     Matches the end of the string or just before the newline at the end of the string.\n"
   ],
   "cell_type": "markdown",
   "metadata": {}
  },
  {
   "cell_type": "code",
   "execution_count": 52,
   "metadata": {},
   "outputs": [
    {
     "output_type": "stream",
     "name": "stdout",
     "text": [
      "Hello, World!\n\n<re.Match object; span=(0, 13), match='Hello, World!'>\n"
     ]
    }
   ],
   "source": [
    "string = \"Hello, World!\\n\"\n",
    "print(string)\n",
    "\n",
    "print(re.match(\"\\w+,\\s+\\w+!$\", string))"
   ]
  },
  {
   "source": [
    "# Match \n",
    "- match( pattern, string, flags=0)\n",
    "\n",
    "- flags: \n",
    "    - 1: specify to return all groups or just a select group group(num=1)\n",
    "    - 2: all matching are returned in a tupple ()"
   ],
   "cell_type": "markdown",
   "metadata": {}
  },
  {
   "cell_type": "code",
   "execution_count": null,
   "metadata": {},
   "outputs": [],
   "source": []
  }
 ]
}